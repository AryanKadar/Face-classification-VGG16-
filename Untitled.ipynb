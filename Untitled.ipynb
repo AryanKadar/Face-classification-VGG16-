{
 "cells": [
  {
   "cell_type": "code",
   "execution_count": 40,
   "id": "ce26a37e",
   "metadata": {},
   "outputs": [],
   "source": [
    "import cv2\n",
    "import numpy as np"
   ]
  },
  {
   "cell_type": "code",
   "execution_count": 42,
   "id": "2bd24905",
   "metadata": {},
   "outputs": [],
   "source": [
    "img=cv2.imread(\"download.jpg\")\n",
    "ix=-1\n",
    "iy=-1\n",
    "flag=False\n",
    "def draw(event,x,y,flag,params):\n",
    "    global ix,iy,r\n",
    "    \n",
    "    if event==1:\n",
    "        flag=True\n",
    "        ix=x\n",
    "        iy=y\n",
    "            #cv2.circle(img,center=(x,y),radius=5,color=(0,0,255),thickness=-1)\n",
    "    elif event==0:\n",
    "        if flag==True:\n",
    "            #cv2.rectangle(img,pt1=(ix,iy),pt2=(x,y),color=(0,255,255),thickness=-1)\n",
    "            r=int(np.sqrt((ix-x)**2+(iy-y)**2)/2)\n",
    "            cv2.circle(img,center=(x,y),radius=r,color=(0,0,255),thickness=-1)\n",
    "            \n",
    "    elif event==4:\n",
    "        flag=False\n",
    "        cv2.circle(img,center=(x,y),radius=r,color=(0,0,255),thickness=-1)\n",
    "           \n",
    "cv2.namedWindow(winname=\"window\")\n",
    "cv2.setMouseCallback(\"window\",draw)\n",
    "while True:\n",
    "    cv2.imshow(\"window\",img)\n",
    "    if cv2.waitKey(1) & 0xFF == ord(\"q\"):\n",
    "        break\n",
    "cv2.destroyAllWindows()"
   ]
  },
  {
   "cell_type": "code",
   "execution_count": null,
   "id": "e80b8e95",
   "metadata": {},
   "outputs": [],
   "source": []
  },
  {
   "cell_type": "code",
   "execution_count": null,
   "id": "49bd5aef",
   "metadata": {},
   "outputs": [],
   "source": []
  },
  {
   "cell_type": "code",
   "execution_count": null,
   "id": "e3a36a89",
   "metadata": {},
   "outputs": [],
   "source": []
  },
  {
   "cell_type": "code",
   "execution_count": null,
   "id": "7698a487",
   "metadata": {},
   "outputs": [],
   "source": []
  },
  {
   "cell_type": "code",
   "execution_count": null,
   "id": "14a83d45",
   "metadata": {},
   "outputs": [],
   "source": []
  },
  {
   "cell_type": "code",
   "execution_count": null,
   "id": "c7f35607",
   "metadata": {},
   "outputs": [],
   "source": []
  },
  {
   "cell_type": "code",
   "execution_count": null,
   "id": "fb1be9a8",
   "metadata": {},
   "outputs": [],
   "source": []
  }
 ],
 "metadata": {
  "kernelspec": {
   "display_name": "Python 3 (ipykernel)",
   "language": "python",
   "name": "python3"
  },
  "language_info": {
   "codemirror_mode": {
    "name": "ipython",
    "version": 3
   },
   "file_extension": ".py",
   "mimetype": "text/x-python",
   "name": "python",
   "nbconvert_exporter": "python",
   "pygments_lexer": "ipython3",
   "version": "3.10.9"
  }
 },
 "nbformat": 4,
 "nbformat_minor": 5
}
